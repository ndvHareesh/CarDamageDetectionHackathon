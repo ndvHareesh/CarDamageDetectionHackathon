{
 "cells": [
  {
   "cell_type": "markdown",
   "metadata": {
    "id": "eYKAy2aH6xZ3"
   },
   "source": [
    "# Import Modules"
   ]
  },
  {
   "cell_type": "code",
   "execution_count": 1,
   "metadata": {
    "id": "m8i_8zdJyfXK"
   },
   "outputs": [
    {
     "data": {
      "text/plain": [
       "<matplotlib.pyplot._IonContext at 0x7ff6d21fc100>"
      ]
     },
     "execution_count": 1,
     "metadata": {},
     "output_type": "execute_result"
    }
   ],
   "source": [
    "from __future__ import print_function, division\n",
    "\n",
    "import torch\n",
    "import torch.nn as nn\n",
    "from torch.nn import functional as F\n",
    "\n",
    "import torch.optim as optim\n",
    "from torch.optim import lr_scheduler\n",
    "\n",
    "import torchvision\n",
    "from torchvision import datasets, models, transforms, utils\n",
    "from torch.utils.data import Dataset, DataLoader\n",
    "\n",
    "import matplotlib.pyplot as plt\n",
    "import numpy as np\n",
    "import cv2\n",
    "import time\n",
    "import os\n",
    "import copy\n",
    "import random\n",
    "import time\n",
    "import pandas as pd\n",
    "plt.ion()   # interactive mode"
   ]
  },
  {
   "cell_type": "markdown",
   "metadata": {
    "id": "noVk43Jg67Jc"
   },
   "source": [
    "# Set seed for reproducability"
   ]
  },
  {
   "cell_type": "code",
   "execution_count": 2,
   "metadata": {
    "id": "4Ia609j3yjO1"
   },
   "outputs": [],
   "source": [
    "seed = 1234\n",
    "\n",
    "random.seed(seed)\n",
    "np.random.seed(seed)\n",
    "torch.manual_seed(seed)\n",
    "torch.cuda.manual_seed(seed)\n",
    "\n"
   ]
  },
  {
   "cell_type": "markdown",
   "metadata": {
    "id": "F3pTjwwT7M65"
   },
   "source": [
    "# Load Images"
   ]
  },
  {
   "cell_type": "code",
   "execution_count": 2,
   "metadata": {
    "id": "w-RSIV0hyxPp"
   },
   "outputs": [],
   "source": [
    "#data transformation\n",
    "data_transforms = {\n",
    "    'train': transforms.Compose([\n",
    "        transforms.RandomResizedCrop(224),\n",
    "        transforms.RandomHorizontalFlip(),\n",
    "        transforms.RandomAffine(degrees=(-20, 20)),\n",
    "        transforms.ToTensor(),\n",
    "        transforms.Normalize([0.485, 0.456, 0.406], [0.229, 0.224, 0.225])\n",
    "    ]),\n",
    "    'val': transforms.Compose([\n",
    "        transforms.Resize(256),\n",
    "        transforms.CenterCrop(224),\n",
    "        transforms.ToTensor(),\n",
    "        transforms.Normalize([0.485, 0.456, 0.406], [0.229, 0.224, 0.225])\n",
    "    ]),\n",
    "}"
   ]
  },
  {
   "cell_type": "code",
   "execution_count": null,
   "metadata": {},
   "outputs": [],
   "source": [
    "import splitfolders\n",
    "splitfolders.ratio('DR_6c_lex', output=\"split_6c_lex\", seed=1337, ratio=(.8, 0.2))"
   ]
  },
  {
   "cell_type": "code",
   "execution_count": 3,
   "metadata": {},
   "outputs": [
    {
     "data": {
      "text/plain": [
       "'split_6c_lex/'"
      ]
     },
     "execution_count": 3,
     "metadata": {},
     "output_type": "execute_result"
    }
   ],
   "source": [
    "data_dir = 'split_6c_lex/'\n",
    "data_dir"
   ]
  },
  {
   "cell_type": "code",
   "execution_count": 4,
   "metadata": {
    "colab": {
     "base_uri": "https://localhost:8080/"
    },
    "executionInfo": {
     "elapsed": 5420,
     "status": "ok",
     "timestamp": 1643291776565,
     "user": {
      "displayName": "Adriana Mohap",
      "photoUrl": "https://lh3.googleusercontent.com/a-/AOh14GjEB8lRt4444Tz2VNkFQzS2LRSsCvEdWZED28hM=s64",
      "userId": "11984251886349442725"
     },
     "user_tz": -60
    },
    "id": "rvJdORaPzApQ",
    "outputId": "d6a523d7-a33a-4eac-b74a-7c4b47aaec72"
   },
   "outputs": [
    {
     "name": "stdout",
     "output_type": "stream",
     "text": [
      "Dataset size for training data:  633\n",
      "Dataset size for validation data:  168\n",
      "Class names:  ['dent', 'dent,glass_shatter', 'dent,glass_shatter,head_lamp,scratch', 'dent,glass_shatter,head_lamp,scratch,tail_lamp', 'dent,glass_shatter,scratch', 'dent,head_lamp', 'dent,head_lamp,scratch', 'dent,scratch', 'dent,scratch,tail_lamp', 'dent,tail_lamp', 'glass_shatter', 'head_lamp', 'head_lamp,scratch', 'scratch', 'scratch,tail_lamp', 'tail_lamp', 'unknown']\n"
     ]
    }
   ],
   "source": [
    "image_datasets = {x: datasets.ImageFolder(os.path.join(data_dir, x),\n",
    "                                          data_transforms[x])\n",
    "                  for x in ['train', 'val']}\n",
    "\n",
    "dataloaders = {x: torch.utils.data.DataLoader(image_datasets[x], batch_size=4,\n",
    "                                             shuffle=True, num_workers=2)\n",
    "              for x in ['train', 'val']}\n",
    "\n",
    "dataset_sizes = {x: len(image_datasets[x]) for x in ['train', 'val']}\n",
    "print(\"Dataset size for training data: \", dataset_sizes['train'])\n",
    "print(\"Dataset size for validation data: \", dataset_sizes['val'])\n",
    "\n",
    "class_names = image_datasets['train'].classes\n",
    "print(\"Class names: \", class_names)\n",
    "\n",
    "\n",
    "device = torch.device(\"cuda:0\" if torch.cuda.is_available() else \"cpu\")"
   ]
  },
  {
   "cell_type": "code",
   "execution_count": 6,
   "metadata": {
    "id": "OjtTN5gk4zCm"
   },
   "outputs": [],
   "source": [
    "def imshow(inp, title=None):\n",
    "    \"\"\"Imshow for Tensor.\"\"\"\n",
    "    inp = inp.numpy().transpose((1, 2, 0))\n",
    "    mean = np.array([0.485, 0.456, 0.406])\n",
    "    std = np.array([0.229, 0.224, 0.225])\n",
    "    inp = std * inp + mean\n",
    "    inp = np.clip(inp, 0, 1)\n",
    "    plt.imshow(inp)\n",
    "    if title is not None:\n",
    "        plt.title(title)\n",
    "    plt.pause(0.001)  # pause a bit so that plots are updated"
   ]
  },
  {
   "cell_type": "code",
   "execution_count": 7,
   "metadata": {
    "colab": {
     "base_uri": "https://localhost:8080/",
     "height": 148
    },
    "executionInfo": {
     "elapsed": 5240,
     "status": "ok",
     "timestamp": 1643291781790,
     "user": {
      "displayName": "Adriana Mohap",
      "photoUrl": "https://lh3.googleusercontent.com/a-/AOh14GjEB8lRt4444Tz2VNkFQzS2LRSsCvEdWZED28hM=s64",
      "userId": "11984251886349442725"
     },
     "user_tz": -60
    },
    "id": "dIq__4Py0VS_",
    "outputId": "9536d5a7-4a53-4b41-c1fe-2b6aea554e30"
   },
   "outputs": [
    {
     "data": {
      "image/png": "[encoded data removed]",
      "text/plain": [
       "<Figure size 432x288 with 1 Axes>"
      ]
     },
     "metadata": {
      "needs_background": "light"
     },
     "output_type": "display_data"
    }
   ],
   "source": [
    "# Get a batch of training data\n",
    "inputs, classes = next(iter(dataloaders['train']))\n",
    "\n",
    "# Make a grid from batch\n",
    "out = torchvision.utils.make_grid(inputs)\n",
    "\n",
    "imshow(out, title=[class_names[x] for x in classes])"
   ]
  },
  {
   "cell_type": "code",
   "execution_count": 8,
   "metadata": {
    "id": "weCae4Ei48fL"
   },
   "outputs": [],
   "source": [
    "def train_model(model, criterion, optimizer, scheduler, num_epochs=25):\n",
    "    since = time.time()\n",
    "\n",
    "    best_model_wts = copy.deepcopy(model.state_dict())\n",
    "    best_acc = 0.0\n",
    "    train_loss = []\n",
    "    valid_loss = []\n",
    "    for epoch in range(num_epochs):\n",
    "        print('Epoch {}/{}'.format(epoch, num_epochs - 1))\n",
    "        print('-' * 10)\n",
    "\n",
    "        # Each epoch has a training and validation phase\n",
    "        for phase in ['train', 'val']:\n",
    "            if phase == 'train':\n",
    "                model.train()  # Set model to training mode\n",
    "            else:\n",
    "                model.eval()   # Set model to evaluate mode\n",
    "\n",
    "            running_loss = 0.0\n",
    "            running_corrects = 0\n",
    "\n",
    "            # Iterate over data.\n",
    "            for inputs, labels in dataloaders[phase]:\n",
    "                inputs = inputs.to(device)\n",
    "                labels = labels.to(device)\n",
    "\n",
    "                # zero the parameter gradients\n",
    "                optimizer.zero_grad()\n",
    "\n",
    "                # forward\n",
    "                # track history if only in train\n",
    "                with torch.set_grad_enabled(phase == 'train'):\n",
    "                    outputs = model(inputs)\n",
    "                    _, preds = torch.max(outputs, 1)\n",
    "                    loss = criterion(outputs, labels)\n",
    "\n",
    "                    # backward + optimize only if in training phase\n",
    "                    if phase == 'train':\n",
    "                        loss.backward()\n",
    "                        optimizer.step()\n",
    "\n",
    "                # statistics\n",
    "                running_loss += loss.item() * inputs.size(0)\n",
    "                running_corrects += torch.sum(preds == labels.data)\n",
    "            if phase == 'train':\n",
    "                scheduler.step()\n",
    "\n",
    "            epoch_loss = running_loss / dataset_sizes[phase]\n",
    "            epoch_acc = running_corrects.double() / dataset_sizes[phase]\n",
    "\n",
    "            print('{} Loss: {:.4f} Acc: {:.4f}'.format(\n",
    "                phase, epoch_loss, epoch_acc))\n",
    "            if phase=='train':\n",
    "                train_loss.append(epoch_loss)\n",
    "            if phase==\"val\":\n",
    "                valid_loss.append(epoch_loss)\n",
    "    \n",
    "            # deep copy the model\n",
    "            if phase == 'val' and epoch_acc > best_acc:\n",
    "                best_acc = epoch_acc\n",
    "                best_model_wts = copy.deepcopy(model.state_dict())\n",
    "                \n",
    "        print()\n",
    "\n",
    "    time_elapsed = time.time() - since\n",
    "    print('Training complete in {:.0f}m {:.0f}s'.format(\n",
    "        time_elapsed // 60, time_elapsed % 60))\n",
    "    print('Best val Acc: {:4f}'.format(best_acc))\n",
    "\n",
    "    # load best model weights\n",
    "    model.load_state_dict(best_model_wts)\n",
    "    # plot and save the train and validation line graphs\n",
    "    plt.figure(figsize=(10, 7))\n",
    "    plt.plot(train_loss, color='orange', label='train loss')\n",
    "    plt.plot(valid_loss, color='red', label='validataion loss')\n",
    "    plt.xlabel('Epochs')\n",
    "    plt.ylabel('Loss')\n",
    "    plt.legend()\n",
    "    plt.savefig('loss.png')\n",
    "    plt.show()\n",
    "    return model"
   ]
  },
  {
   "cell_type": "code",
   "execution_count": 9,
   "metadata": {
    "id": "Lu0DkJD95Bhu"
   },
   "outputs": [],
   "source": [
    "def visualize_model(model, num_images=6):\n",
    "    was_training = model.training\n",
    "    model.eval()\n",
    "    images_so_far = 0\n",
    "    fig = plt.figure()\n",
    "\n",
    "    with torch.no_grad():\n",
    "        for i, (inputs, labels) in enumerate(dataloaders['val']):\n",
    "            inputs = inputs.to(device)\n",
    "            labels = labels.to(device)\n",
    "\n",
    "            outputs = model(inputs)\n",
    "            _, preds = torch.max(outputs, 1)\n",
    "\n",
    "            for j in range(inputs.size()[0]):\n",
    "                images_so_far += 1\n",
    "                ax = plt.subplot(num_images//2, 2, images_so_far)\n",
    "                ax.axis('off')\n",
    "                ax.set_title('predicted: {}'.format(class_names[preds[j]]))\n",
    "                imshow(inputs.cpu().data[j])\n",
    "\n",
    "                if images_so_far == num_images:\n",
    "                    model.train(mode=was_training)\n",
    "                    return\n",
    "        model.train(mode=was_training)"
   ]
  },
  {
   "cell_type": "markdown",
   "metadata": {
    "id": "jxYNJfs16Bmi"
   },
   "source": [
    "# Finetuning the convnet\n",
    "\n",
    "Instead of random initializaion, the model is initialized using a pretrained network, after which the training proceeds as usual but with a different dataset. Usually the head (or part of it) is also replaced in the network in case there is a different number of outputs. It is common in this method to set the learning rate to a smaller number. This is done because the network is already trained, and only minor changes are required to “finetune” it to a new dataset.\n",
    "\n",
    "The pretrained resnet18 model is loaded and the final fully connected layer is reset."
   ]
  },
  {
   "cell_type": "code",
   "execution_count": 10,
   "metadata": {
    "colab": {
     "base_uri": "https://localhost:8080/",
     "height": 67,
     "referenced_widgets": [
      "9fc4b313ce704f8d80cb5dfb6ab1d31e",
      "0de27176dc164e27bc9db44d5ddd8f68",
      "6e131ffc211145038592c43bacd5ba83",
      "5c2a5697291744b4b11235966f2c0190",
      "f0638372a065480d80273c9813a1fe0f",
      "a5006e1ded2c4709a923e49ce0a8aaa0",
      "98f89553986e4e0f998d9fac872d245b",
      "d9aff364267b4392bc748ca92f17aeda",
      "4305e65a67ae4c8f95c71de0c2be49a0",
      "68497150de7447d9868b656a6dcc4f79",
      "8e07f977c0fb4a36b5dae12ab53da457"
     ]
    },
    "executionInfo": {
     "elapsed": 6953,
     "status": "ok",
     "timestamp": 1643291788734,
     "user": {
      "displayName": "Adriana Mohap",
      "photoUrl": "https://lh3.googleusercontent.com/a-/AOh14GjEB8lRt4444Tz2VNkFQzS2LRSsCvEdWZED28hM=s64",
      "userId": "11984251886349442725"
     },
     "user_tz": -60
    },
    "id": "oDgrxHsc5MQA",
    "outputId": "4054ca55-6f71-444f-c292-ff51cab114e6"
   },
   "outputs": [],
   "source": [
    "model_ft = models.resnet18(pretrained=True)\n",
    "num_ftrs = model_ft.fc.in_features\n",
    "\n",
    "model_ft.fc = nn.Linear(num_ftrs, len(class_names))\n",
    "\n",
    "model_ft = model_ft.to(device)\n",
    "\n",
    "criterion = nn.CrossEntropyLoss()\n",
    "\n",
    "# Observe that all parameters are being optimized\n",
    "optimizer_ft = optim.SGD(model_ft.parameters(), lr=0.001, momentum=0.9)\n",
    "\n",
    "# Decay LR by a factor of 0.1 every 7 epochs\n",
    "exp_lr_scheduler = lr_scheduler.StepLR(optimizer_ft, step_size=7, gamma=0.1)"
   ]
  },
  {
   "cell_type": "code",
   "execution_count": 12,
   "metadata": {
    "colab": {
     "base_uri": "https://localhost:8080/"
    },
    "executionInfo": {
     "elapsed": 1061953,
     "status": "ok",
     "timestamp": 1643292850675,
     "user": {
      "displayName": "Adriana Mohap",
      "photoUrl": "https://lh3.googleusercontent.com/a-/AOh14GjEB8lRt4444Tz2VNkFQzS2LRSsCvEdWZED28hM=s64",
      "userId": "11984251886349442725"
     },
     "user_tz": -60
    },
    "id": "otvg8VSK5POM",
    "outputId": "28277f56-d5c2-473e-b004-416443482242",
    "scrolled": false
   },
   "outputs": [
    {
     "name": "stdout",
     "output_type": "stream",
     "text": [
      "Epoch 0/24\n",
      "----------\n",
      "train Loss: 1.6326 Acc: 0.5166\n",
      "val Loss: 1.9108 Acc: 0.5893\n",
      "\n",
      "Epoch 1/24\n",
      "----------\n",
      "train Loss: 1.6174 Acc: 0.5371\n",
      "val Loss: 1.7301 Acc: 0.5536\n",
      "\n",
      "Epoch 2/24\n",
      "----------\n",
      "train Loss: 1.4861 Acc: 0.5419\n",
      "val Loss: 1.9464 Acc: 0.6190\n",
      "\n",
      "Epoch 3/24\n",
      "----------\n",
      "train Loss: 1.1568 Acc: 0.6445\n",
      "val Loss: 1.7497 Acc: 0.6429\n",
      "\n",
      "Epoch 4/24\n",
      "----------\n",
      "train Loss: 1.0499 Acc: 0.6714\n",
      "val Loss: 1.8726 Acc: 0.6071\n",
      "\n",
      "Epoch 5/24\n",
      "----------\n",
      "train Loss: 1.0741 Acc: 0.6761\n",
      "val Loss: 1.6812 Acc: 0.6369\n",
      "\n",
      "Epoch 6/24\n",
      "----------\n",
      "train Loss: 1.0468 Acc: 0.6872\n",
      "val Loss: 1.7202 Acc: 0.6488\n",
      "\n",
      "Epoch 7/24\n",
      "----------\n",
      "train Loss: 1.0157 Acc: 0.6603\n",
      "val Loss: 1.6978 Acc: 0.6548\n",
      "\n",
      "Epoch 8/24\n",
      "----------\n",
      "train Loss: 0.9802 Acc: 0.6872\n",
      "val Loss: 1.7660 Acc: 0.6488\n",
      "\n",
      "Epoch 9/24\n",
      "----------\n",
      "train Loss: 1.0474 Acc: 0.6777\n",
      "val Loss: 1.6602 Acc: 0.6488\n",
      "\n",
      "Epoch 10/24\n",
      "----------\n",
      "train Loss: 0.9588 Acc: 0.6935\n",
      "val Loss: 1.6285 Acc: 0.6548\n",
      "\n",
      "Epoch 11/24\n",
      "----------\n",
      "train Loss: 0.9438 Acc: 0.6983\n",
      "val Loss: 1.7487 Acc: 0.6250\n",
      "\n",
      "Epoch 12/24\n",
      "----------\n",
      "train Loss: 0.9138 Acc: 0.7125\n",
      "val Loss: 1.7563 Acc: 0.6429\n",
      "\n",
      "Epoch 13/24\n",
      "----------\n",
      "train Loss: 1.0080 Acc: 0.6935\n",
      "val Loss: 1.7213 Acc: 0.6190\n",
      "\n",
      "Epoch 14/24\n",
      "----------\n",
      "train Loss: 0.8999 Acc: 0.7314\n",
      "val Loss: 1.7191 Acc: 0.6429\n",
      "\n",
      "Epoch 15/24\n",
      "----------\n",
      "train Loss: 0.9436 Acc: 0.7014\n",
      "val Loss: 1.8311 Acc: 0.6369\n",
      "\n",
      "Epoch 16/24\n",
      "----------\n",
      "train Loss: 0.9078 Acc: 0.7204\n",
      "val Loss: 1.6862 Acc: 0.6250\n",
      "\n",
      "Epoch 17/24\n",
      "----------\n",
      "train Loss: 0.9580 Acc: 0.7046\n",
      "val Loss: 1.6405 Acc: 0.6190\n",
      "\n",
      "Epoch 18/24\n",
      "----------\n",
      "train Loss: 0.9437 Acc: 0.7251\n",
      "val Loss: 1.8377 Acc: 0.5952\n",
      "\n",
      "Epoch 19/24\n",
      "----------\n",
      "train Loss: 0.8428 Acc: 0.7299\n",
      "val Loss: 1.5889 Acc: 0.6548\n",
      "\n",
      "Epoch 20/24\n",
      "----------\n",
      "train Loss: 0.9578 Acc: 0.6856\n",
      "val Loss: 1.6686 Acc: 0.6250\n",
      "\n",
      "Epoch 21/24\n",
      "----------\n",
      "train Loss: 0.9475 Acc: 0.7141\n",
      "val Loss: 1.8229 Acc: 0.6250\n",
      "\n",
      "Epoch 22/24\n",
      "----------\n",
      "train Loss: 0.9391 Acc: 0.6983\n",
      "val Loss: 1.6513 Acc: 0.6548\n",
      "\n",
      "Epoch 23/24\n",
      "----------\n",
      "train Loss: 0.8642 Acc: 0.7267\n",
      "val Loss: 1.6633 Acc: 0.6250\n",
      "\n",
      "Epoch 24/24\n",
      "----------\n",
      "train Loss: 0.8994 Acc: 0.7188\n",
      "val Loss: 1.7121 Acc: 0.6190\n",
      "\n",
      "Training complete in 405m 56s\n",
      "Best val Acc: 0.654762\n"
     ]
    },
    {
     "data": {
      "image/png": "[encoded data removed]",
      "text/plain": [
       "<Figure size 720x504 with 1 Axes>"
      ]
     },
     "metadata": {
      "needs_background": "light"
     },
     "output_type": "display_data"
    }
   ],
   "source": [
    "model_ft = train_model(model_ft, criterion, optimizer_ft, exp_lr_scheduler,\n",
    "                       num_epochs=25)"
   ]
  },
  {
   "cell_type": "code",
   "execution_count": null,
   "metadata": {},
   "outputs": [],
   "source": []
  },
  {
   "cell_type": "code",
   "execution_count": null,
   "metadata": {
    "colab": {
     "base_uri": "https://localhost:8080/",
     "height": 581
    },
    "executionInfo": {
     "elapsed": 805,
     "status": "ok",
     "timestamp": 1643292925894,
     "user": {
      "displayName": "Adriana Mohap",
      "photoUrl": "https://lh3.googleusercontent.com/a-/AOh14GjEB8lRt4444Tz2VNkFQzS2LRSsCvEdWZED28hM=s64",
      "userId": "11984251886349442725"
     },
     "user_tz": -60
    },
    "id": "tFtW2FuX5RY3",
    "outputId": "064bfca2-7700-4d75-e2bd-448332b1e47b"
   },
   "outputs": [],
   "source": [
    "visualize_model(model_ft)"
   ]
  },
  {
   "cell_type": "code",
   "execution_count": null,
   "metadata": {},
   "outputs": [],
   "source": [
    "torch.save(model_ft, 'submission.h5')"
   ]
  },
  {
   "cell_type": "code",
   "execution_count": null,
   "metadata": {},
   "outputs": [],
   "source": [
    "device = torch.device(\"cuda\" if torch.cuda.is_available() else \"cpu\")\n",
    "model=torch.load('submission.h5')\n",
    "model.eval()"
   ]
  }
 ],
 "metadata": {
  "accelerator": "GPU",
  "colab": {
   "name": "pretrained-model.ipynb",
   "provenance": []
  },
  "kernelspec": {
   "display_name": "Python 3 (ipykernel)",
   "language": "python",
   "name": "python3"
  },
  "language_info": {
   "codemirror_mode": {
    "name": "ipython",
    "version": 3
   },
   "file_extension": ".py",
   "mimetype": "text/x-python",
   "name": "python",
   "nbconvert_exporter": "python",
   "pygments_lexer": "ipython3",
   "version": "3.8.8"
  },
  "widgets": {
   "application/vnd.jupyter.widget-state+json": {
    "0de27176dc164e27bc9db44d5ddd8f68": {
     "model_module": "@jupyter-widgets/base",
     "model_module_version": "1.2.0",
     "model_name": "LayoutModel",
     "state": {
      "_model_module": "@jupyter-widgets/base",
      "_model_module_version": "1.2.0",
      "_model_name": "LayoutModel",
      "_view_count": null,
      "_view_module": "@jupyter-widgets/base",
      "_view_module_version": "1.2.0",
      "_view_name": "LayoutView",
      "align_content": null,
      "align_items": null,
      "align_self": null,
      "border": null,
      "bottom": null,
      "display": null,
      "flex": null,
      "flex_flow": null,
      "grid_area": null,
      "grid_auto_columns": null,
      "grid_auto_flow": null,
      "grid_auto_rows": null,
      "grid_column": null,
      "grid_gap": null,
      "grid_row": null,
      "grid_template_areas": null,
      "grid_template_columns": null,
      "grid_template_rows": null,
      "height": null,
      "justify_content": null,
      "justify_items": null,
      "left": null,
      "margin": null,
      "max_height": null,
      "max_width": null,
      "min_height": null,
      "min_width": null,
      "object_fit": null,
      "object_position": null,
      "order": null,
      "overflow": null,
      "overflow_x": null,
      "overflow_y": null,
      "padding": null,
      "right": null,
      "top": null,
      "visibility": null,
      "width": null
     }
    },
    "4305e65a67ae4c8f95c71de0c2be49a0": {
     "model_module": "@jupyter-widgets/base",
     "model_module_version": "1.2.0",
     "model_name": "LayoutModel",
     "state": {
      "_model_module": "@jupyter-widgets/base",
      "_model_module_version": "1.2.0",
      "_model_name": "LayoutModel",
      "_view_count": null,
      "_view_module": "@jupyter-widgets/base",
      "_view_module_version": "1.2.0",
      "_view_name": "LayoutView",
      "align_content": null,
      "align_items": null,
      "align_self": null,
      "border": null,
      "bottom": null,
      "display": null,
      "flex": null,
      "flex_flow": null,
      "grid_area": null,
      "grid_auto_columns": null,
      "grid_auto_flow": null,
      "grid_auto_rows": null,
      "grid_column": null,
      "grid_gap": null,
      "grid_row": null,
      "grid_template_areas": null,
      "grid_template_columns": null,
      "grid_template_rows": null,
      "height": null,
      "justify_content": null,
      "justify_items": null,
      "left": null,
      "margin": null,
      "max_height": null,
      "max_width": null,
      "min_height": null,
      "min_width": null,
      "object_fit": null,
      "object_position": null,
      "order": null,
      "overflow": null,
      "overflow_x": null,
      "overflow_y": null,
      "padding": null,
      "right": null,
      "top": null,
      "visibility": null,
      "width": null
     }
    },
    "5c2a5697291744b4b11235966f2c0190": {
     "model_module": "@jupyter-widgets/controls",
     "model_module_version": "1.5.0",
     "model_name": "FloatProgressModel",
     "state": {
      "_dom_classes": [],
      "_model_module": "@jupyter-widgets/controls",
      "_model_module_version": "1.5.0",
      "_model_name": "FloatProgressModel",
      "_view_count": null,
      "_view_module": "@jupyter-widgets/controls",
      "_view_module_version": "1.5.0",
      "_view_name": "ProgressView",
      "bar_style": "success",
      "description": "",
      "description_tooltip": null,
      "layout": "IPY_MODEL_4305e65a67ae4c8f95c71de0c2be49a0",
      "max": 46830571,
      "min": 0,
      "orientation": "horizontal",
      "style": "IPY_MODEL_d9aff364267b4392bc748ca92f17aeda",
      "value": 46830571
     }
    },
    "68497150de7447d9868b656a6dcc4f79": {
     "model_module": "@jupyter-widgets/controls",
     "model_module_version": "1.5.0",
     "model_name": "DescriptionStyleModel",
     "state": {
      "_model_module": "@jupyter-widgets/controls",
      "_model_module_version": "1.5.0",
      "_model_name": "DescriptionStyleModel",
      "_view_count": null,
      "_view_module": "@jupyter-widgets/base",
      "_view_module_version": "1.2.0",
      "_view_name": "StyleView",
      "description_width": ""
     }
    },
    "6e131ffc211145038592c43bacd5ba83": {
     "model_module": "@jupyter-widgets/controls",
     "model_module_version": "1.5.0",
     "model_name": "HTMLModel",
     "state": {
      "_dom_classes": [],
      "_model_module": "@jupyter-widgets/controls",
      "_model_module_version": "1.5.0",
      "_model_name": "HTMLModel",
      "_view_count": null,
      "_view_module": "@jupyter-widgets/controls",
      "_view_module_version": "1.5.0",
      "_view_name": "HTMLView",
      "description": "",
      "description_tooltip": null,
      "layout": "IPY_MODEL_98f89553986e4e0f998d9fac872d245b",
      "placeholder": "​",
      "style": "IPY_MODEL_a5006e1ded2c4709a923e49ce0a8aaa0",
      "value": "100%"
     }
    },
    "8e07f977c0fb4a36b5dae12ab53da457": {
     "model_module": "@jupyter-widgets/base",
     "model_module_version": "1.2.0",
     "model_name": "LayoutModel",
     "state": {
      "_model_module": "@jupyter-widgets/base",
      "_model_module_version": "1.2.0",
      "_model_name": "LayoutModel",
      "_view_count": null,
      "_view_module": "@jupyter-widgets/base",
      "_view_module_version": "1.2.0",
      "_view_name": "LayoutView",
      "align_content": null,
      "align_items": null,
      "align_self": null,
      "border": null,
      "bottom": null,
      "display": null,
      "flex": null,
      "flex_flow": null,
      "grid_area": null,
      "grid_auto_columns": null,
      "grid_auto_flow": null,
      "grid_auto_rows": null,
      "grid_column": null,
      "grid_gap": null,
      "grid_row": null,
      "grid_template_areas": null,
      "grid_template_columns": null,
      "grid_template_rows": null,
      "height": null,
      "justify_content": null,
      "justify_items": null,
      "left": null,
      "margin": null,
      "max_height": null,
      "max_width": null,
      "min_height": null,
      "min_width": null,
      "object_fit": null,
      "object_position": null,
      "order": null,
      "overflow": null,
      "overflow_x": null,
      "overflow_y": null,
      "padding": null,
      "right": null,
      "top": null,
      "visibility": null,
      "width": null
     }
    },
    "98f89553986e4e0f998d9fac872d245b": {
     "model_module": "@jupyter-widgets/base",
     "model_module_version": "1.2.0",
     "model_name": "LayoutModel",
     "state": {
      "_model_module": "@jupyter-widgets/base",
      "_model_module_version": "1.2.0",
      "_model_name": "LayoutModel",
      "_view_count": null,
      "_view_module": "@jupyter-widgets/base",
      "_view_module_version": "1.2.0",
      "_view_name": "LayoutView",
      "align_content": null,
      "align_items": null,
      "align_self": null,
      "border": null,
      "bottom": null,
      "display": null,
      "flex": null,
      "flex_flow": null,
      "grid_area": null,
      "grid_auto_columns": null,
      "grid_auto_flow": null,
      "grid_auto_rows": null,
      "grid_column": null,
      "grid_gap": null,
      "grid_row": null,
      "grid_template_areas": null,
      "grid_template_columns": null,
      "grid_template_rows": null,
      "height": null,
      "justify_content": null,
      "justify_items": null,
      "left": null,
      "margin": null,
      "max_height": null,
      "max_width": null,
      "min_height": null,
      "min_width": null,
      "object_fit": null,
      "object_position": null,
      "order": null,
      "overflow": null,
      "overflow_x": null,
      "overflow_y": null,
      "padding": null,
      "right": null,
      "top": null,
      "visibility": null,
      "width": null
     }
    },
    "9fc4b313ce704f8d80cb5dfb6ab1d31e": {
     "model_module": "@jupyter-widgets/controls",
     "model_module_version": "1.5.0",
     "model_name": "HBoxModel",
     "state": {
      "_dom_classes": [],
      "_model_module": "@jupyter-widgets/controls",
      "_model_module_version": "1.5.0",
      "_model_name": "HBoxModel",
      "_view_count": null,
      "_view_module": "@jupyter-widgets/controls",
      "_view_module_version": "1.5.0",
      "_view_name": "HBoxView",
      "box_style": "",
      "children": [
       "IPY_MODEL_6e131ffc211145038592c43bacd5ba83",
       "IPY_MODEL_5c2a5697291744b4b11235966f2c0190",
       "IPY_MODEL_f0638372a065480d80273c9813a1fe0f"
      ],
      "layout": "IPY_MODEL_0de27176dc164e27bc9db44d5ddd8f68"
     }
    },
    "a5006e1ded2c4709a923e49ce0a8aaa0": {
     "model_module": "@jupyter-widgets/controls",
     "model_module_version": "1.5.0",
     "model_name": "DescriptionStyleModel",
     "state": {
      "_model_module": "@jupyter-widgets/controls",
      "_model_module_version": "1.5.0",
      "_model_name": "DescriptionStyleModel",
      "_view_count": null,
      "_view_module": "@jupyter-widgets/base",
      "_view_module_version": "1.2.0",
      "_view_name": "StyleView",
      "description_width": ""
     }
    },
    "d9aff364267b4392bc748ca92f17aeda": {
     "model_module": "@jupyter-widgets/controls",
     "model_module_version": "1.5.0",
     "model_name": "ProgressStyleModel",
     "state": {
      "_model_module": "@jupyter-widgets/controls",
      "_model_module_version": "1.5.0",
      "_model_name": "ProgressStyleModel",
      "_view_count": null,
      "_view_module": "@jupyter-widgets/base",
      "_view_module_version": "1.2.0",
      "_view_name": "StyleView",
      "bar_color": null,
      "description_width": ""
     }
    },
    "f0638372a065480d80273c9813a1fe0f": {
     "model_module": "@jupyter-widgets/controls",
     "model_module_version": "1.5.0",
     "model_name": "HTMLModel",
     "state": {
      "_dom_classes": [],
      "_model_module": "@jupyter-widgets/controls",
      "_model_module_version": "1.5.0",
      "_model_name": "HTMLModel",
      "_view_count": null,
      "_view_module": "@jupyter-widgets/controls",
      "_view_module_version": "1.5.0",
      "_view_name": "HTMLView",
      "description": "",
      "description_tooltip": null,
      "layout": "IPY_MODEL_8e07f977c0fb4a36b5dae12ab53da457",
      "placeholder": "​",
      "style": "IPY_MODEL_68497150de7447d9868b656a6dcc4f79",
      "value": " 44.7M/44.7M [00:00&lt;00:00, 121MB/s]"
     }
    }
   }
  }
 },
 "nbformat": 4,
 "nbformat_minor": 1
}
